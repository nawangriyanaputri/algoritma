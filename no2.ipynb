{
  "cells": [
    {
      "cell_type": "markdown",
      "metadata": {
        "id": "view-in-github",
        "colab_type": "text"
      },
      "source": [
        "<a href=\"https://colab.research.google.com/github/nawangriyanaputri/algoritma/blob/main/no2.ipynb\" target=\"_parent\"><img src=\"https://colab.research.google.com/assets/colab-badge.svg\" alt=\"Open In Colab\"/></a>"
      ]
    },
    {
      "cell_type": "code",
      "execution_count": null,
      "metadata": {
        "colab": {
          "base_uri": "https://localhost:8080/"
        },
        "id": "L4_rKDuVx-D4",
        "outputId": "15c6ce1f-5b02-41de-cd78-8b795ce26531"
      },
      "outputs": [
        {
          "name": "stdout",
          "output_type": "stream",
          "text": [
            "Masukkan NPM anda =2410506002\n",
            "Jumlah bilangan genap =  8\n",
            "Jumlah bilangan ganjil =  2\n"
          ]
        }
      ],
      "source": [
        "# no 1\n",
        "NPM = input(\"Masukkan NPM anda =\")\n",
        "genap = 0\n",
        "ganjil = 0\n",
        "for angka in NPM:\n",
        "  if int(angka) % 2 == 0:\n",
        "    genap += 1\n",
        "  else:\n",
        "    ganjil += 1\n",
        "print(\"Jumlah bilangan genap = \", genap)\n",
        "print(\"Jumlah bilangan ganjil = \", ganjil)"
      ]
    },
    {
      "cell_type": "code",
      "source": [
        "# no 2\n",
        "\n",
        "a = int(input(\"Masukkan jumlah baris: \"))\n",
        "for i in range(1, a + 1):\n",
        "    c = i\n",
        "    for j in range(1, i + 1):\n",
        "        print(c, end=\" \")\n",
        "        c += i\n",
        "    print()"
      ],
      "metadata": {
        "colab": {
          "base_uri": "https://localhost:8080/"
        },
        "id": "4JP-QWsFPhV2",
        "outputId": "6de12f8b-d233-411a-da7e-0b23302468da"
      },
      "execution_count": null,
      "outputs": [
        {
          "output_type": "stream",
          "name": "stdout",
          "text": [
            "Masukkan jumlah baris: 10\n",
            "1 \n",
            "2 4 \n",
            "3 6 9 \n",
            "4 8 12 16 \n",
            "5 10 15 20 25 \n",
            "6 12 18 24 30 36 \n",
            "7 14 21 28 35 42 49 \n",
            "8 16 24 32 40 48 56 64 \n",
            "9 18 27 36 45 54 63 72 81 \n",
            "10 20 30 40 50 60 70 80 90 100 \n"
          ]
        }
      ]
    }
  ],
  "metadata": {
    "colab": {
      "provenance": [],
      "authorship_tag": "ABX9TyMhumw46QdrytinXloO4Gx2",
      "include_colab_link": true
    },
    "kernelspec": {
      "display_name": "Python 3",
      "name": "python3"
    },
    "language_info": {
      "name": "python"
    }
  },
  "nbformat": 4,
  "nbformat_minor": 0
}