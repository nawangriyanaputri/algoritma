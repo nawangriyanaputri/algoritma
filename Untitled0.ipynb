{
  "nbformat": 4,
  "nbformat_minor": 0,
  "metadata": {
    "colab": {
      "provenance": [],
      "authorship_tag": "ABX9TyNnCoBlcm0HIm9oAiJ8pae0",
      "include_colab_link": true
    },
    "kernelspec": {
      "name": "python3",
      "display_name": "Python 3"
    },
    "language_info": {
      "name": "python"
    }
  },
  "cells": [
    {
      "cell_type": "markdown",
      "metadata": {
        "id": "view-in-github",
        "colab_type": "text"
      },
      "source": [
        "<a href=\"https://colab.research.google.com/github/nawangriyanaputri/algoritma/blob/main/Untitled0.ipynb\" target=\"_parent\"><img src=\"https://colab.research.google.com/assets/colab-badge.svg\" alt=\"Open In Colab\"/></a>"
      ]
    },
    {
      "cell_type": "code",
      "execution_count": null,
      "metadata": {
        "colab": {
          "base_uri": "https://localhost:8080/"
        },
        "id": "EYIMqVBXywFo",
        "outputId": "24a30fd9-b6c6-4af6-aad3-e08c343338bd"
      },
      "outputs": [
        {
          "output_type": "stream",
          "name": "stdout",
          "text": [
            "11\n"
          ]
        }
      ],
      "source": [
        "# Integer\n",
        "print(\"11\")"
      ]
    },
    {
      "cell_type": "code",
      "source": [
        "# Float\n",
        "print(\"2.14\")"
      ],
      "metadata": {
        "colab": {
          "base_uri": "https://localhost:8080/"
        },
        "id": "Rm7gA_UR0Fos",
        "outputId": "e695a5b5-8091-4d59-ddf6-2678dbdbc081"
      },
      "execution_count": null,
      "outputs": [
        {
          "output_type": "stream",
          "name": "stdout",
          "text": [
            "2.14\n"
          ]
        }
      ]
    },
    {
      "cell_type": "code",
      "source": [
        "# String\n",
        "#print(\"Hello, Python 102!\")\n",
        "#print(\"Hello, Python 101!\")\n",
        "print(\"Hello, Python 102!\")\n",
        "#print(\"Hello, Python 101!\")"
      ],
      "metadata": {
        "colab": {
          "base_uri": "https://localhost:8080/"
        },
        "id": "otqYSq1K0Q1T",
        "outputId": "484024d0-13dc-4bf0-9f7c-38c6217e2083"
      },
      "execution_count": null,
      "outputs": [
        {
          "output_type": "stream",
          "name": "stdout",
          "text": [
            "Hello, Python 102!\n"
          ]
        }
      ]
    },
    {
      "cell_type": "code",
      "source": [
        "# Type of 12\n",
        "type(12)"
      ],
      "metadata": {
        "colab": {
          "base_uri": "https://localhost:8080/"
        },
        "id": "_4KDGBps0oJk",
        "outputId": "ca763c25-c26a-486c-db44-ec8dfbe776de"
      },
      "execution_count": null,
      "outputs": [
        {
          "output_type": "execute_result",
          "data": {
            "text/plain": [
              "int"
            ]
          },
          "metadata": {},
          "execution_count": 7
        }
      ]
    },
    {
      "cell_type": "code",
      "source": [
        "# Type of 2.14\n",
        "type(2.14)"
      ],
      "metadata": {
        "colab": {
          "base_uri": "https://localhost:8080/"
        },
        "id": "hXNTktoQ1Zv1",
        "outputId": "975c6718-b11e-4d81-9c09-2578fcb2a7ee"
      },
      "execution_count": null,
      "outputs": [
        {
          "output_type": "execute_result",
          "data": {
            "text/plain": [
              "float"
            ]
          },
          "metadata": {},
          "execution_count": 8
        }
      ]
    },
    {
      "cell_type": "code",
      "source": [
        "# Type of \"Hello, Python 101!\"\n",
        "type(\"Hello, Python 101!\")"
      ],
      "metadata": {
        "colab": {
          "base_uri": "https://localhost:8080/"
        },
        "id": "hd0w7nkg2oi9",
        "outputId": "d01841e0-2a40-43bb-af37-ad205e31a71a"
      },
      "execution_count": null,
      "outputs": [
        {
          "output_type": "execute_result",
          "data": {
            "text/plain": [
              "str"
            ]
          },
          "metadata": {},
          "execution_count": 9
        }
      ]
    },
    {
      "cell_type": "code",
      "source": [
        "# Write your code below. Don't forget to press Shift+Enter to execute the cell\n",
        "type(12.0)"
      ],
      "metadata": {
        "colab": {
          "base_uri": "https://localhost:8080/"
        },
        "id": "qQHEnl4H3BmD",
        "outputId": "16070e59-10fa-4209-a5cb-abab6eca7be4"
      },
      "execution_count": null,
      "outputs": [
        {
          "output_type": "execute_result",
          "data": {
            "text/plain": [
              "float"
            ]
          },
          "metadata": {},
          "execution_count": 10
        }
      ]
    },
    {
      "cell_type": "code",
      "source": [
        "# Print the typ of -1\n",
        "type(-1)"
      ],
      "metadata": {
        "colab": {
          "base_uri": "https://localhost:8080/"
        },
        "id": "wnIsuCh03bZr",
        "outputId": "3b8a3338-c873-4ee5-e736-77725e798cc6"
      },
      "execution_count": null,
      "outputs": [
        {
          "output_type": "execute_result",
          "data": {
            "text/plain": [
              "int"
            ]
          },
          "metadata": {},
          "execution_count": 11
        }
      ]
    },
    {
      "cell_type": "code",
      "source": [
        "type(-6)"
      ],
      "metadata": {
        "colab": {
          "base_uri": "https://localhost:8080/"
        },
        "id": "86Flwiur3yNz",
        "outputId": "70f96167-cb25-4c31-9dc3-bffbe82a0614"
      },
      "execution_count": null,
      "outputs": [
        {
          "output_type": "execute_result",
          "data": {
            "text/plain": [
              "int"
            ]
          },
          "metadata": {},
          "execution_count": 13
        }
      ]
    },
    {
      "cell_type": "code",
      "source": [
        "# Print the type of 4\n",
        "type(4)"
      ],
      "metadata": {
        "colab": {
          "base_uri": "https://localhost:8080/"
        },
        "id": "wBA6We_m32cj",
        "outputId": "8fc4dbc8-f1c0-4890-ba4a-241e1925b105"
      },
      "execution_count": null,
      "outputs": [
        {
          "output_type": "execute_result",
          "data": {
            "text/plain": [
              "int"
            ]
          },
          "metadata": {},
          "execution_count": 14
        }
      ]
    },
    {
      "cell_type": "code",
      "source": [
        "# Print the type of 0\n",
        "type(0)"
      ],
      "metadata": {
        "colab": {
          "base_uri": "https://localhost:8080/"
        },
        "id": "nRK6rR7O4A20",
        "outputId": "cb9de273-1923-4061-a934-3d0ce40059f1"
      },
      "execution_count": null,
      "outputs": [
        {
          "output_type": "execute_result",
          "data": {
            "text/plain": [
              "int"
            ]
          },
          "metadata": {},
          "execution_count": 15
        }
      ]
    },
    {
      "cell_type": "code",
      "source": [
        "# Print the type of 1.0\n",
        "type(1.0) # Notice that 1 is an int, and 1.0 is a float"
      ],
      "metadata": {
        "colab": {
          "base_uri": "https://localhost:8080/"
        },
        "id": "D7pKNMPD4Gaz",
        "outputId": "5702865a-c77c-4356-8869-8a36644e4755"
      },
      "execution_count": null,
      "outputs": [
        {
          "output_type": "execute_result",
          "data": {
            "text/plain": [
              "float"
            ]
          },
          "metadata": {},
          "execution_count": 16
        }
      ]
    },
    {
      "cell_type": "code",
      "source": [
        "# Print the type of 0.5\n",
        "type(0.5)"
      ],
      "metadata": {
        "colab": {
          "base_uri": "https://localhost:8080/"
        },
        "id": "ChwBUUPR4aSB",
        "outputId": "1c19970d-a45a-427b-8190-0e92c218b438"
      },
      "execution_count": null,
      "outputs": [
        {
          "output_type": "execute_result",
          "data": {
            "text/plain": [
              "float"
            ]
          },
          "metadata": {},
          "execution_count": 18
        }
      ]
    },
    {
      "cell_type": "code",
      "source": [
        "# Print the type of 0.56\n",
        "type(0.56)"
      ],
      "metadata": {
        "colab": {
          "base_uri": "https://localhost:8080/"
        },
        "id": "RTMzyr1t4hTY",
        "outputId": "9726d203-9652-4f61-ffc4-40bf55816066"
      },
      "execution_count": null,
      "outputs": [
        {
          "output_type": "execute_result",
          "data": {
            "text/plain": [
              "float"
            ]
          },
          "metadata": {},
          "execution_count": 19
        }
      ]
    },
    {
      "cell_type": "code",
      "source": [
        "# System setting about float type\n",
        "import sys # it is needes to declare the library \"sys\" before using it\n",
        "sys.float_info"
      ],
      "metadata": {
        "colab": {
          "base_uri": "https://localhost:8080/"
        },
        "id": "b_xh09YD4tfk",
        "outputId": "f14fdda4-657a-4e72-d212-fd8ff9fd1b89"
      },
      "execution_count": null,
      "outputs": [
        {
          "output_type": "execute_result",
          "data": {
            "text/plain": [
              "sys.float_info(max=1.7976931348623157e+308, max_exp=1024, max_10_exp=308, min=2.2250738585072014e-308, min_exp=-1021, min_10_exp=-307, dig=15, mant_dig=53, epsilon=2.220446049250313e-16, radix=2, rounds=1)"
            ]
          },
          "metadata": {},
          "execution_count": 20
        }
      ]
    },
    {
      "cell_type": "code",
      "source": [
        "# Verify that this is an integer\n",
        "type(2)"
      ],
      "metadata": {
        "colab": {
          "base_uri": "https://localhost:8080/"
        },
        "id": "VyEGC9OV5Dbj",
        "outputId": "50c48454-b0b0-4071-a0bb-e4f94de1c2ac"
      },
      "execution_count": null,
      "outputs": [
        {
          "output_type": "execute_result",
          "data": {
            "text/plain": [
              "int"
            ]
          },
          "metadata": {},
          "execution_count": 21
        }
      ]
    },
    {
      "cell_type": "code",
      "source": [
        "# Convert 2 to a float\n",
        "float(2)"
      ],
      "metadata": {
        "colab": {
          "base_uri": "https://localhost:8080/"
        },
        "id": "8-7PwLgj5O3s",
        "outputId": "12615a44-994d-4d07-d13d-50c90d426db1"
      },
      "execution_count": null,
      "outputs": [
        {
          "output_type": "execute_result",
          "data": {
            "text/plain": [
              "2.0"
            ]
          },
          "metadata": {},
          "execution_count": 22
        }
      ]
    },
    {
      "cell_type": "code",
      "source": [
        "# Convert integer 2 to a float and check its type\n",
        "type(float(2))"
      ],
      "metadata": {
        "colab": {
          "base_uri": "https://localhost:8080/"
        },
        "id": "GbNJZ8cy5WO8",
        "outputId": "07c87723-0938-4ad1-9f89-8dd5da796c4b"
      },
      "execution_count": null,
      "outputs": [
        {
          "output_type": "execute_result",
          "data": {
            "text/plain": [
              "float"
            ]
          },
          "metadata": {},
          "execution_count": 23
        }
      ]
    },
    {
      "cell_type": "code",
      "source": [
        "# Casting 1.1 to integer will result in loss of information\n",
        "int(1.1)"
      ],
      "metadata": {
        "colab": {
          "base_uri": "https://localhost:8080/"
        },
        "id": "wKD8bKjA5hyM",
        "outputId": "7c88d12c-93ee-4cb3-f520-714994c9167e"
      },
      "execution_count": null,
      "outputs": [
        {
          "output_type": "execute_result",
          "data": {
            "text/plain": [
              "1"
            ]
          },
          "metadata": {},
          "execution_count": 26
        }
      ]
    },
    {
      "cell_type": "code",
      "source": [
        "# Convert a string into an integer with error\n",
        "int('1 or 2 people')"
      ],
      "metadata": {
        "colab": {
          "base_uri": "https://localhost:8080/",
          "height": 159
        },
        "id": "QbU6gBEc5vdE",
        "outputId": "8848d0b7-e720-4b5f-e409-25a82f2ee840"
      },
      "execution_count": null,
      "outputs": [
        {
          "output_type": "error",
          "ename": "ValueError",
          "evalue": "invalid literal for int() with base 10: '1 or 2 people'",
          "traceback": [
            "\u001b[0;31m---------------------------------------------------------------------------\u001b[0m",
            "\u001b[0;31mValueError\u001b[0m                                Traceback (most recent call last)",
            "\u001b[0;32m<ipython-input-27-56968935ff9e>\u001b[0m in \u001b[0;36m<cell line: 2>\u001b[0;34m()\u001b[0m\n\u001b[1;32m      1\u001b[0m \u001b[0;31m# Convert a string into an integer with error\u001b[0m\u001b[0;34m\u001b[0m\u001b[0;34m\u001b[0m\u001b[0m\n\u001b[0;32m----> 2\u001b[0;31m \u001b[0mint\u001b[0m\u001b[0;34m(\u001b[0m\u001b[0;34m'1 or 2 people'\u001b[0m\u001b[0;34m)\u001b[0m\u001b[0;34m\u001b[0m\u001b[0;34m\u001b[0m\u001b[0m\n\u001b[0m",
            "\u001b[0;31mValueError\u001b[0m: invalid literal for int() with base 10: '1 or 2 people'"
          ]
        }
      ]
    },
    {
      "cell_type": "code",
      "source": [
        "# Convert the string \"1.2\" into a float\n",
        "float('1.2')"
      ],
      "metadata": {
        "colab": {
          "base_uri": "https://localhost:8080/"
        },
        "id": "tj7ZkaG06EAc",
        "outputId": "70ef3ad8-be03-4b00-8699-97ac8de35fe4"
      },
      "execution_count": null,
      "outputs": [
        {
          "output_type": "execute_result",
          "data": {
            "text/plain": [
              "1.2"
            ]
          },
          "metadata": {},
          "execution_count": 28
        }
      ]
    },
    {
      "cell_type": "code",
      "source": [
        "# Convert an integer to a string\n",
        "str(1)"
      ],
      "metadata": {
        "colab": {
          "base_uri": "https://localhost:8080/",
          "height": 35
        },
        "id": "qe3on8Y56SAj",
        "outputId": "5a1d1ebc-cb29-49de-f113-621aa6eb2ae1"
      },
      "execution_count": null,
      "outputs": [
        {
          "output_type": "execute_result",
          "data": {
            "text/plain": [
              "'1'"
            ],
            "application/vnd.google.colaboratory.intrinsic+json": {
              "type": "string"
            }
          },
          "metadata": {},
          "execution_count": 29
        }
      ]
    },
    {
      "cell_type": "code",
      "source": [
        "# Convert a float to a string\n",
        "str(1.2)"
      ],
      "metadata": {
        "colab": {
          "base_uri": "https://localhost:8080/",
          "height": 35
        },
        "id": "fFJLs6xw6bVL",
        "outputId": "b6a1df85-4876-42d0-d085-adfd91e847f6"
      },
      "execution_count": null,
      "outputs": [
        {
          "output_type": "execute_result",
          "data": {
            "text/plain": [
              "'1.2'"
            ],
            "application/vnd.google.colaboratory.intrinsic+json": {
              "type": "string"
            }
          },
          "metadata": {},
          "execution_count": 30
        }
      ]
    },
    {
      "cell_type": "code",
      "source": [
        "# Value true\n",
        "True"
      ],
      "metadata": {
        "colab": {
          "base_uri": "https://localhost:8080/"
        },
        "id": "8GYwN2jl6l9U",
        "outputId": "e5f2d64d-c6ad-4f09-d471-177bf600bc8e"
      },
      "execution_count": null,
      "outputs": [
        {
          "output_type": "execute_result",
          "data": {
            "text/plain": [
              "True"
            ]
          },
          "metadata": {},
          "execution_count": 31
        }
      ]
    },
    {
      "cell_type": "code",
      "source": [
        "# Value false\n",
        "False"
      ],
      "metadata": {
        "id": "S2rUaTbF6rpk",
        "outputId": "e738f9ba-e064-4df2-cdca-acadf4d9d418",
        "colab": {
          "base_uri": "https://localhost:8080/"
        }
      },
      "execution_count": null,
      "outputs": [
        {
          "output_type": "execute_result",
          "data": {
            "text/plain": [
              "False"
            ]
          },
          "metadata": {},
          "execution_count": 32
        }
      ]
    },
    {
      "cell_type": "code",
      "source": [
        "# Type of True\n",
        "type(True)"
      ],
      "metadata": {
        "id": "4aLjqIAj6xL4",
        "colab": {
          "base_uri": "https://localhost:8080/"
        },
        "outputId": "85d09c4f-b7e7-45cc-b640-39a4ee4ff643"
      },
      "execution_count": null,
      "outputs": [
        {
          "output_type": "execute_result",
          "data": {
            "text/plain": [
              "bool"
            ]
          },
          "metadata": {},
          "execution_count": 1
        }
      ]
    },
    {
      "cell_type": "code",
      "source": [
        "# Type of False\n",
        "type(False)"
      ],
      "metadata": {
        "colab": {
          "base_uri": "https://localhost:8080/"
        },
        "id": "jSPecweWEVoz",
        "outputId": "81ac221d-df0e-45ca-eb7e-015dea45bacf"
      },
      "execution_count": null,
      "outputs": [
        {
          "output_type": "execute_result",
          "data": {
            "text/plain": [
              "bool"
            ]
          },
          "metadata": {},
          "execution_count": 2
        }
      ]
    },
    {
      "cell_type": "code",
      "source": [
        "# Convert True to int\n",
        "int(True)"
      ],
      "metadata": {
        "colab": {
          "base_uri": "https://localhost:8080/"
        },
        "id": "p32vJpseEjMB",
        "outputId": "ea74c440-b591-4a34-f173-a6173b2c8afd"
      },
      "execution_count": null,
      "outputs": [
        {
          "output_type": "execute_result",
          "data": {
            "text/plain": [
              "1"
            ]
          },
          "metadata": {},
          "execution_count": 3
        }
      ]
    },
    {
      "cell_type": "code",
      "source": [
        "# Convert 1 to boolean\n",
        "bool(1)"
      ],
      "metadata": {
        "colab": {
          "base_uri": "https://localhost:8080/"
        },
        "id": "BUvLyZ44ErK9",
        "outputId": "420b4dae-6634-4e52-d6f2-c419e72571f1"
      },
      "execution_count": null,
      "outputs": [
        {
          "output_type": "execute_result",
          "data": {
            "text/plain": [
              "True"
            ]
          },
          "metadata": {},
          "execution_count": 4
        }
      ]
    },
    {
      "cell_type": "code",
      "source": [
        "# Convert 0 to boolean\n",
        "bool(0)"
      ],
      "metadata": {
        "colab": {
          "base_uri": "https://localhost:8080/"
        },
        "id": "K4ocXDZpE22a",
        "outputId": "2f37e952-7088-447b-f49c-e5e31cda8d55"
      },
      "execution_count": null,
      "outputs": [
        {
          "output_type": "execute_result",
          "data": {
            "text/plain": [
              "False"
            ]
          },
          "metadata": {},
          "execution_count": 5
        }
      ]
    },
    {
      "cell_type": "code",
      "source": [
        "# Convert True to float\n",
        "float(True)"
      ],
      "metadata": {
        "colab": {
          "base_uri": "https://localhost:8080/"
        },
        "id": "DVD29VFPE_db",
        "outputId": "3327ab76-9f16-4783-c357-163a312f3961"
      },
      "execution_count": null,
      "outputs": [
        {
          "output_type": "execute_result",
          "data": {
            "text/plain": [
              "1.0"
            ]
          },
          "metadata": {},
          "execution_count": 6
        }
      ]
    },
    {
      "cell_type": "code",
      "source": [
        "# Write your code below. Don't forget to press Shift+Enter to execute the cell\n",
        "type(6/2)"
      ],
      "metadata": {
        "colab": {
          "base_uri": "https://localhost:8080/"
        },
        "id": "LI1psM95FGQI",
        "outputId": "fd031135-bc76-423d-9384-16736b6156e5"
      },
      "execution_count": null,
      "outputs": [
        {
          "output_type": "execute_result",
          "data": {
            "text/plain": [
              "float"
            ]
          },
          "metadata": {},
          "execution_count": 7
        }
      ]
    },
    {
      "cell_type": "code",
      "source": [
        "# Write your code below. Don't forget to press Shift+Enter to execute the cell\n",
        "type(6//2)"
      ],
      "metadata": {
        "colab": {
          "base_uri": "https://localhost:8080/"
        },
        "id": "runKH0AWFXbg",
        "outputId": "23415282-52c3-44e1-8660-da2c860ebebf"
      },
      "execution_count": null,
      "outputs": [
        {
          "output_type": "execute_result",
          "data": {
            "text/plain": [
              "int"
            ]
          },
          "metadata": {},
          "execution_count": 8
        }
      ]
    },
    {
      "cell_type": "code",
      "source": [
        "# Addition operation expression\n",
        "#43 + 60 + 41\n",
        "type(10.55+10.5-5)"
      ],
      "metadata": {
        "colab": {
          "base_uri": "https://localhost:8080/"
        },
        "id": "tvR6lXI3Fs1r",
        "outputId": "d3dbc213-eaf4-4fce-9378-3cecb20d2e64"
      },
      "execution_count": null,
      "outputs": [
        {
          "output_type": "execute_result",
          "data": {
            "text/plain": [
              "float"
            ]
          },
          "metadata": {},
          "execution_count": 9
        }
      ]
    },
    {
      "cell_type": "code",
      "source": [
        "# Subtraction operation expression\n",
        "type(50 - 60)"
      ],
      "metadata": {
        "colab": {
          "base_uri": "https://localhost:8080/"
        },
        "id": "bkmzoKdWF7tw",
        "outputId": "b2d9f4e2-26d9-4523-f3fd-8626d974053d"
      },
      "execution_count": null,
      "outputs": [
        {
          "output_type": "execute_result",
          "data": {
            "text/plain": [
              "int"
            ]
          },
          "metadata": {},
          "execution_count": 10
        }
      ]
    },
    {
      "cell_type": "code",
      "source": [
        "# Multiplication operation expression\n",
        "5 * 5"
      ],
      "metadata": {
        "colab": {
          "base_uri": "https://localhost:8080/"
        },
        "id": "m3OouaspGIIw",
        "outputId": "68775b40-e839-48cb-8731-a680452ebd1c"
      },
      "execution_count": null,
      "outputs": [
        {
          "output_type": "execute_result",
          "data": {
            "text/plain": [
              "25"
            ]
          },
          "metadata": {},
          "execution_count": 11
        }
      ]
    },
    {
      "cell_type": "code",
      "source": [
        "# Division operation expression\n",
        "25 / 5"
      ],
      "metadata": {
        "colab": {
          "base_uri": "https://localhost:8080/"
        },
        "id": "Qqt6y4x9GR8Y",
        "outputId": "8f6d6456-dc3a-4012-c688-24f848c03641"
      },
      "execution_count": null,
      "outputs": [
        {
          "output_type": "execute_result",
          "data": {
            "text/plain": [
              "5.0"
            ]
          },
          "metadata": {},
          "execution_count": 12
        }
      ]
    },
    {
      "cell_type": "code",
      "source": [
        "# Division operation expression\n",
        "25 / 6"
      ],
      "metadata": {
        "colab": {
          "base_uri": "https://localhost:8080/"
        },
        "id": "-PGeWwWZGawz",
        "outputId": "46bdf3d1-e8e0-40a1-f6c2-fdaef56fb4b9"
      },
      "execution_count": null,
      "outputs": [
        {
          "output_type": "execute_result",
          "data": {
            "text/plain": [
              "4.166666666666667"
            ]
          },
          "metadata": {},
          "execution_count": 13
        }
      ]
    },
    {
      "cell_type": "code",
      "source": [
        "# Integer division operation expression\n",
        "25 // 5"
      ],
      "metadata": {
        "colab": {
          "base_uri": "https://localhost:8080/"
        },
        "id": "9kKUQ5lVGjkh",
        "outputId": "fcff6f74-d2b6-4048-c029-eafe43dd514f"
      },
      "execution_count": null,
      "outputs": [
        {
          "output_type": "execute_result",
          "data": {
            "text/plain": [
              "5"
            ]
          },
          "metadata": {},
          "execution_count": 14
        }
      ]
    },
    {
      "cell_type": "code",
      "source": [
        "# Integer division operation expression\n",
        "25 // 6"
      ],
      "metadata": {
        "colab": {
          "base_uri": "https://localhost:8080/"
        },
        "id": "TbL0Y6ZTG1Kh",
        "outputId": "78143221-dcaf-4f6d-d497-5f94196ed12e"
      },
      "execution_count": null,
      "outputs": [
        {
          "output_type": "execute_result",
          "data": {
            "text/plain": [
              "4"
            ]
          },
          "metadata": {},
          "execution_count": 15
        }
      ]
    },
    {
      "cell_type": "code",
      "source": [
        "# Write your code below. Don't forget to press Shift+Enter to execute the cell\n",
        "160/60"
      ],
      "metadata": {
        "colab": {
          "base_uri": "https://localhost:8080/"
        },
        "id": "1ZYLmmrIG-eT",
        "outputId": "2408945f-3b3f-4c12-b51e-f163bc9d94e3"
      },
      "execution_count": null,
      "outputs": [
        {
          "output_type": "execute_result",
          "data": {
            "text/plain": [
              "2.6666666666666665"
            ]
          },
          "metadata": {},
          "execution_count": 16
        }
      ]
    },
    {
      "cell_type": "code",
      "source": [
        "# Mathematical expression\n",
        "30 + 2 * 60 //10"
      ],
      "metadata": {
        "colab": {
          "base_uri": "https://localhost:8080/"
        },
        "id": "DJUqmGZ4HNko",
        "outputId": "0d7f4957-0247-4eec-ef5f-720758e5c81d"
      },
      "execution_count": null,
      "outputs": [
        {
          "output_type": "execute_result",
          "data": {
            "text/plain": [
              "42"
            ]
          },
          "metadata": {},
          "execution_count": 17
        }
      ]
    },
    {
      "cell_type": "code",
      "source": [
        "# Mathematical expression\n",
        "(30 + 2) * 60"
      ],
      "metadata": {
        "colab": {
          "base_uri": "https://localhost:8080/"
        },
        "id": "5jk9zlynHXuQ",
        "outputId": "ebeba3eb-2e03-45bf-bc3e-9c5b6c82fa31"
      },
      "execution_count": null,
      "outputs": [
        {
          "output_type": "execute_result",
          "data": {
            "text/plain": [
              "1920"
            ]
          },
          "metadata": {},
          "execution_count": 18
        }
      ]
    },
    {
      "cell_type": "code",
      "source": [
        "# Store value into variable\n",
        "x = 43 + 60 + 16 + 41\n",
        "x"
      ],
      "metadata": {
        "colab": {
          "base_uri": "https://localhost:8080/"
        },
        "id": "Vkz_j5OxHf62",
        "outputId": "7eb81687-14b3-4e21-a875-207934853817"
      },
      "execution_count": null,
      "outputs": [
        {
          "output_type": "execute_result",
          "data": {
            "text/plain": [
              "160"
            ]
          },
          "metadata": {},
          "execution_count": 19
        }
      ]
    },
    {
      "cell_type": "code",
      "source": [
        "# Print out the value in variable\n",
        "x = 43 + 60 + 16 + 41\n",
        "x"
      ],
      "metadata": {
        "colab": {
          "base_uri": "https://localhost:8080/"
        },
        "id": "ducpWYbHHsjE",
        "outputId": "88674a27-de1a-42dd-f975-fdaa925d4b94"
      },
      "execution_count": null,
      "outputs": [
        {
          "output_type": "execute_result",
          "data": {
            "text/plain": [
              "160"
            ]
          },
          "metadata": {},
          "execution_count": 20
        }
      ]
    },
    {
      "cell_type": "code",
      "source": [
        "# Use another variable to store the result of the operation between variable and value\n",
        "y = x / 60\n",
        "y"
      ],
      "metadata": {
        "colab": {
          "base_uri": "https://localhost:8080/"
        },
        "id": "iOfMJY6uH6pP",
        "outputId": "492ca4f4-e175-40c9-d4db-76e772bfd5bd"
      },
      "execution_count": null,
      "outputs": [
        {
          "output_type": "execute_result",
          "data": {
            "text/plain": [
              "2.6666666666666665"
            ]
          },
          "metadata": {},
          "execution_count": 21
        }
      ]
    },
    {
      "cell_type": "code",
      "source": [
        "# Overwrite variable with new value\n",
        "x = x / 60\n",
        "print(x)"
      ],
      "metadata": {
        "colab": {
          "base_uri": "https://localhost:8080/"
        },
        "id": "on3EVk9FILkE",
        "outputId": "cf53d57a-d35d-4c74-9495-0a4c06d9b71a"
      },
      "execution_count": null,
      "outputs": [
        {
          "output_type": "stream",
          "name": "stdout",
          "text": [
            "2.6666666666666665\n"
          ]
        }
      ]
    },
    {
      "cell_type": "code",
      "source": [
        "x"
      ],
      "metadata": {
        "colab": {
          "base_uri": "https://localhost:8080/"
        },
        "id": "Djy1drPBIWOs",
        "outputId": "6f14f9ab-1e8a-4882-937d-dbb95bc80d82"
      },
      "execution_count": null,
      "outputs": [
        {
          "output_type": "execute_result",
          "data": {
            "text/plain": [
              "2.6666666666666665"
            ]
          },
          "metadata": {},
          "execution_count": 23
        }
      ]
    },
    {
      "cell_type": "code",
      "source": [
        "# Name the variables meaningfully\n",
        "total_min = 43 + 42 + 57 # Total lenght of albums in minutes\n",
        "total_min"
      ],
      "metadata": {
        "colab": {
          "base_uri": "https://localhost:8080/"
        },
        "id": "TlznSigPIYH6",
        "outputId": "f4359ec4-f65d-4dee-90f7-e4b94f418e0b"
      },
      "execution_count": null,
      "outputs": [
        {
          "output_type": "execute_result",
          "data": {
            "text/plain": [
              "142"
            ]
          },
          "metadata": {},
          "execution_count": 24
        }
      ]
    },
    {
      "cell_type": "code",
      "source": [
        "# Name the variables meaningfully\n",
        "total_min = 43 + 42 + 57 # Total lenght of albums in minutes\n",
        "total_min"
      ],
      "metadata": {
        "colab": {
          "base_uri": "https://localhost:8080/"
        },
        "id": "32jxIRyoIyi2",
        "outputId": "2437641a-8f56-4d03-a0b5-85c9870dbce0"
      },
      "execution_count": null,
      "outputs": [
        {
          "output_type": "execute_result",
          "data": {
            "text/plain": [
              "142"
            ]
          },
          "metadata": {},
          "execution_count": 25
        }
      ]
    },
    {
      "cell_type": "code",
      "source": [
        "float(total_min)"
      ],
      "metadata": {
        "colab": {
          "base_uri": "https://localhost:8080/"
        },
        "id": "sTlO8SChJDpI",
        "outputId": "6fe32705-57ee-4400-9b58-3ff950fbd661"
      },
      "execution_count": null,
      "outputs": [
        {
          "output_type": "execute_result",
          "data": {
            "text/plain": [
              "142.0"
            ]
          },
          "metadata": {},
          "execution_count": 26
        }
      ]
    },
    {
      "cell_type": "code",
      "source": [
        "a=2\n",
        "a"
      ],
      "metadata": {
        "colab": {
          "base_uri": "https://localhost:8080/"
        },
        "id": "59LKOnFgJHd9",
        "outputId": "0bae29f5-3f16-4654-c59e-ca20947f917f"
      },
      "execution_count": null,
      "outputs": [
        {
          "output_type": "execute_result",
          "data": {
            "text/plain": [
              "2"
            ]
          },
          "metadata": {},
          "execution_count": 28
        }
      ]
    },
    {
      "cell_type": "code",
      "source": [
        "print(float(a))"
      ],
      "metadata": {
        "colab": {
          "base_uri": "https://localhost:8080/"
        },
        "id": "3WwH_vQDJKdY",
        "outputId": "b96f9a75-dd50-470d-bce6-f3cb07d261e0"
      },
      "execution_count": null,
      "outputs": [
        {
          "output_type": "stream",
          "name": "stdout",
          "text": [
            "2.0\n"
          ]
        }
      ]
    },
    {
      "cell_type": "code",
      "source": [
        "# Name the variables meaningfully\n",
        "total_hours = total_min / 60 # Total lenght of albums in hours\n",
        "total_hours"
      ],
      "metadata": {
        "colab": {
          "base_uri": "https://localhost:8080/"
        },
        "id": "3JU4NtmWJQQ5",
        "outputId": "15980acc-1c48-4e03-fad6-4bb0e7b99a3b"
      },
      "execution_count": null,
      "outputs": [
        {
          "output_type": "execute_result",
          "data": {
            "text/plain": [
              "2.3666666666666667"
            ]
          },
          "metadata": {},
          "execution_count": 30
        }
      ]
    },
    {
      "cell_type": "code",
      "source": [
        "# Complicate expression\n",
        "total_hours = (43 + 42 + 57) / 60 # Total hours in a single expression\n",
        "total_hours"
      ],
      "metadata": {
        "colab": {
          "base_uri": "https://localhost:8080/"
        },
        "id": "2W06U6AcJhgn",
        "outputId": "393b356b-e6c4-40f1-a0ed-f8d4886fa697"
      },
      "execution_count": null,
      "outputs": [
        {
          "output_type": "execute_result",
          "data": {
            "text/plain": [
              "2.3666666666666667"
            ]
          },
          "metadata": {},
          "execution_count": 31
        }
      ]
    },
    {
      "cell_type": "code",
      "source": [
        "# Write your code below. Don't forget to press Shift+Enter to execute the cell\n",
        "x = 3 + 2 * 2\n",
        "x"
      ],
      "metadata": {
        "colab": {
          "base_uri": "https://localhost:8080/"
        },
        "id": "koZRzx8WJ5nC",
        "outputId": "a5609bbb-0311-48fd-e393-14dccb11d57a"
      },
      "execution_count": null,
      "outputs": [
        {
          "output_type": "execute_result",
          "data": {
            "text/plain": [
              "7"
            ]
          },
          "metadata": {},
          "execution_count": 32
        }
      ]
    },
    {
      "cell_type": "code",
      "source": [
        "# Write your code below. Don't forget to press Shift+Enter to execute the cell\n",
        "y = (3 + 2) * 2\n",
        "y"
      ],
      "metadata": {
        "colab": {
          "base_uri": "https://localhost:8080/"
        },
        "id": "7krnv280KK5H",
        "outputId": "b5646226-5472-4db4-9e19-ce96c43fcd71"
      },
      "execution_count": null,
      "outputs": [
        {
          "output_type": "execute_result",
          "data": {
            "text/plain": [
              "10"
            ]
          },
          "metadata": {},
          "execution_count": 33
        }
      ]
    },
    {
      "cell_type": "code",
      "source": [
        "# Write your code below. Don't forget to press Shift+Enter to execute the cell\n",
        "z = x + y\n",
        "z"
      ],
      "metadata": {
        "colab": {
          "base_uri": "https://localhost:8080/"
        },
        "id": "b0rJ9ZdjKc3z",
        "outputId": "5144fdd4-17f3-47d8-e438-6ee9011f13f6"
      },
      "execution_count": null,
      "outputs": [
        {
          "output_type": "execute_result",
          "data": {
            "text/plain": [
              "17"
            ]
          },
          "metadata": {},
          "execution_count": 34
        }
      ]
    },
    {
      "cell_type": "code",
      "source": [
        "panjang = 20.5\n",
        "lebar = 25\n",
        "tinggi = 10\n",
        "\n",
        "keliling = 2 * (panjang + lebar)\n",
        "luas = panjang * lebar\n",
        "volume = panjang * lebar * tinggi\n",
        "\n",
        "print(\"Panjang = \" + str(panjang))\n",
        "print(\"Lebar =\" + str(lebar))\n",
        "print(\"Tinggi =\" + str(tinggi))\n",
        "print(\"Keliling =\" + str(keliling))\n",
        "print(\"Volume =\" + str(volume))"
      ],
      "metadata": {
        "id": "t0Ng-0w9KvIH",
        "colab": {
          "base_uri": "https://localhost:8080/"
        },
        "outputId": "c93183d4-4dee-4217-a1b0-ffd5da92e7be"
      },
      "execution_count": null,
      "outputs": [
        {
          "output_type": "stream",
          "name": "stdout",
          "text": [
            "Panjang = 20.5\n",
            "Lebar =25\n",
            "Tinggi =10\n",
            "Keliling =91.0\n",
            "Volume =5125.0\n"
          ]
        }
      ]
    },
    {
      "cell_type": "code",
      "source": [
        "NilaiRatarataShafira = ((85 + 75)/2)\n",
        "print(NilaiRatarataShafira)"
      ],
      "metadata": {
        "id": "lnICUoXwbUTQ",
        "colab": {
          "base_uri": "https://localhost:8080/"
        },
        "outputId": "c50cae5e-b04a-48dc-bd8e-12d5bf99ba2b"
      },
      "execution_count": 3,
      "outputs": [
        {
          "output_type": "stream",
          "name": "stdout",
          "text": [
            "80.0\n"
          ]
        }
      ]
    },
    {
      "cell_type": "code",
      "source": [
        "JumlahNilaiHanifdanAndi = (75 + 90 + 70 + 75)\n",
        "print(JumlahNilaiHanifdanAndi)"
      ],
      "metadata": {
        "id": "KipHdi4l2K_P",
        "colab": {
          "base_uri": "https://localhost:8080/"
        },
        "outputId": "01eb7c66-0d55-4bd1-ed4f-7e13aa7d3334"
      },
      "execution_count": 4,
      "outputs": [
        {
          "output_type": "stream",
          "name": "stdout",
          "text": [
            "310\n"
          ]
        }
      ]
    },
    {
      "cell_type": "code",
      "source": [
        "NilaiRatarataWidya = ((85 + 85)/2)\n",
        "NilaiRatarataDhanar = ((85 + 85)/2)\n",
        "NilaiRatarataHikma = ((80 + 75)/2)\n",
        "NilaiRatarataNedia = ((95 + 80)/2)\n",
        "print(NilaiRatarataWidya)\n",
        "print(NilaiRatarataDhanar)\n",
        "print(NilaiRatarataHikma)\n",
        "print(NilaiRatarataNedia)"
      ],
      "metadata": {
        "colab": {
          "base_uri": "https://localhost:8080/"
        },
        "id": "1x44E_mJeT_P",
        "outputId": "ee1d8cc1-d329-4fea-9483-496a3dfa7ed9"
      },
      "execution_count": 5,
      "outputs": [
        {
          "output_type": "stream",
          "name": "stdout",
          "text": [
            "85.0\n",
            "85.0\n",
            "77.5\n",
            "87.5\n"
          ]
        }
      ]
    },
    {
      "cell_type": "code",
      "source": [
        "NilaiRatarataKalkulus1 = ((85 + 80 + 75 + 95 + 85 + 75 + 70 + 85 + 80)/9)\n",
        "print(NilaiRatarataKalkulus1)"
      ],
      "metadata": {
        "colab": {
          "base_uri": "https://localhost:8080/"
        },
        "id": "L4Dka11yfuI8",
        "outputId": "645dd858-1d41-4f05-f23f-ed5ee301d701"
      },
      "execution_count": 6,
      "outputs": [
        {
          "output_type": "stream",
          "name": "stdout",
          "text": [
            "81.11111111111111\n"
          ]
        }
      ]
    },
    {
      "cell_type": "code",
      "source": [
        "NilaiRatarataMetodeStatistika = ((75 + 90 + 80 + 80 + 85 + 90 + 75 + 85 + 75)/9)\n",
        "print(NilaiRatarataMetodeStatistika)"
      ],
      "metadata": {
        "colab": {
          "base_uri": "https://localhost:8080/"
        },
        "id": "ZAZ-7pJbgcF1",
        "outputId": "02681763-f21d-4b94-e17c-cb65c177e4e5"
      },
      "execution_count": 8,
      "outputs": [
        {
          "output_type": "stream",
          "name": "stdout",
          "text": [
            "81.66666666666667\n"
          ]
        }
      ]
    },
    {
      "cell_type": "code",
      "source": [
        "GajiPerjam = 30000\n",
        "HariKerja = 27\n",
        "JamKerjaPerhari = 8\n",
        "TotalJamKerja = JamKerjaPerhari * HariKerja\n",
        "GajiAwal = TotalJamKerja * GajiPerjam\n",
        "HariTidakMasuk = 3\n",
        "JamKerjaHilang = HariTidakMasuk * JamKerjaPerhari\n",
        "GajiSetelahPotongan = GajiAwal - (JamKerjaHilang * GajiPerjam)\n",
        "Tunjangan = 0.10 * GajiSetelahPotongan\n",
        "LemburJam = 5\n",
        "UpahLemburPerjam = 10000\n",
        "GajiLembur = LemburJam * UpahLemburPerjam\n",
        "GajiTotal = GajiSetelahPotongan + Tunjangan + GajiLembur\n",
        "print(\"Gaji setelah potongan : Rp\", GajiSetelahPotongan)\n",
        "print(\"Tunjangan : Rp\", Tunjangan)\n",
        "print(\"Gaji total setelah tunjangan dan lembur : Rp\", GajiTotal)"
      ],
      "metadata": {
        "colab": {
          "base_uri": "https://localhost:8080/"
        },
        "id": "7XRpS7zwhALG",
        "outputId": "f7667027-372f-4260-fdbd-d46ff39e37ad"
      },
      "execution_count": 11,
      "outputs": [
        {
          "output_type": "stream",
          "name": "stdout",
          "text": [
            "Gaji setelah potongan : Rp 5760000\n",
            "Tunjangan : Rp 576000.0\n",
            "Gaji total setelah tunjangan dan lembur : Rp 6386000.0\n"
          ]
        }
      ]
    }
  ]
}