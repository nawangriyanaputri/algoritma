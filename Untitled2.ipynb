{
  "nbformat": 4,
  "nbformat_minor": 0,
  "metadata": {
    "colab": {
      "provenance": [],
      "authorship_tag": "ABX9TyPdIPr2FYZbA231lAuezr/x",
      "include_colab_link": true
    },
    "kernelspec": {
      "name": "python3",
      "display_name": "Python 3"
    },
    "language_info": {
      "name": "python"
    }
  },
  "cells": [
    {
      "cell_type": "markdown",
      "metadata": {
        "id": "view-in-github",
        "colab_type": "text"
      },
      "source": [
        "<a href=\"https://colab.research.google.com/github/nawangriyanaputri/algoritma/blob/main/Untitled2.ipynb\" target=\"_parent\"><img src=\"https://colab.research.google.com/assets/colab-badge.svg\" alt=\"Open In Colab\"/></a>"
      ]
    },
    {
      "cell_type": "code",
      "source": [
        "# Condition Equal\n",
        "a = 5\n",
        "a == 6"
      ],
      "metadata": {
        "colab": {
          "base_uri": "https://localhost:8080/"
        },
        "id": "i6MMgRcti2QK",
        "outputId": "d5d81f0b-794f-484a-cd4a-5c065c8f90df"
      },
      "execution_count": null,
      "outputs": [
        {
          "output_type": "execute_result",
          "data": {
            "text/plain": [
              "False"
            ]
          },
          "metadata": {},
          "execution_count": 1
        }
      ]
    },
    {
      "cell_type": "code",
      "source": [
        "# Greater than Sign\n",
        "i = 6\n",
        "i > 5"
      ],
      "metadata": {
        "colab": {
          "base_uri": "https://localhost:8080/"
        },
        "id": "zcjPjfXtjAXT",
        "outputId": "ae2b883d-6a49-4d86-aedb-b0d601bc560a"
      },
      "execution_count": null,
      "outputs": [
        {
          "output_type": "execute_result",
          "data": {
            "text/plain": [
              "True"
            ]
          },
          "metadata": {},
          "execution_count": 2
        }
      ]
    },
    {
      "cell_type": "code",
      "source": [
        "# Inequality Sign\n",
        "i = 2\n",
        "i != 6"
      ],
      "metadata": {
        "colab": {
          "base_uri": "https://localhost:8080/"
        },
        "id": "cgM1WmtGjLLK",
        "outputId": "96f11245-e41b-40d5-ad7c-a28eaf3cd3c8"
      },
      "execution_count": null,
      "outputs": [
        {
          "output_type": "execute_result",
          "data": {
            "text/plain": [
              "True"
            ]
          },
          "metadata": {},
          "execution_count": 3
        }
      ]
    },
    {
      "cell_type": "code",
      "source": [
        "# Use Equality sign to compare the strings\n",
        "\"ACDC\" == \"Michael Jackson\""
      ],
      "metadata": {
        "colab": {
          "base_uri": "https://localhost:8080/"
        },
        "id": "KRNsAVcCjVnK",
        "outputId": "b48b827b-e0de-4eb5-a817-4bc89f62702f"
      },
      "execution_count": null,
      "outputs": [
        {
          "output_type": "execute_result",
          "data": {
            "text/plain": [
              "False"
            ]
          },
          "metadata": {},
          "execution_count": 4
        }
      ]
    },
    {
      "cell_type": "code",
      "source": [
        "# Use Inequality sign to compare the strings\n",
        "\"ACDC\" != \"Michael Jackson\""
      ],
      "metadata": {
        "colab": {
          "base_uri": "https://localhost:8080/"
        },
        "id": "6NCLMnepjs2P",
        "outputId": "543143b3-3c75-4dbf-b3df-5a2f021de7c8"
      },
      "execution_count": null,
      "outputs": [
        {
          "output_type": "execute_result",
          "data": {
            "text/plain": [
              "True"
            ]
          },
          "metadata": {},
          "execution_count": 5
        }
      ]
    },
    {
      "cell_type": "code",
      "source": [
        "# Compare characters\n",
        "'B' > 'A'"
      ],
      "metadata": {
        "colab": {
          "base_uri": "https://localhost:8080/"
        },
        "id": "s8jbxuKfj8B6",
        "outputId": "88117f29-2e28-4df5-86b7-a4155b15be9b"
      },
      "execution_count": null,
      "outputs": [
        {
          "output_type": "execute_result",
          "data": {
            "text/plain": [
              "True"
            ]
          },
          "metadata": {},
          "execution_count": 6
        }
      ]
    },
    {
      "cell_type": "code",
      "source": [
        "# Compare characters\n",
        "'BA' > 'AB'"
      ],
      "metadata": {
        "colab": {
          "base_uri": "https://localhost:8080/"
        },
        "id": "grW0tnhvkFJT",
        "outputId": "28863aa6-e90a-4438-c857-900b89ae6020"
      },
      "execution_count": null,
      "outputs": [
        {
          "output_type": "execute_result",
          "data": {
            "text/plain": [
              "True"
            ]
          },
          "metadata": {},
          "execution_count": 7
        }
      ]
    },
    {
      "cell_type": "code",
      "source": [
        "\"ba\" >= \"ba\""
      ],
      "metadata": {
        "colab": {
          "base_uri": "https://localhost:8080/"
        },
        "id": "xKvRsBM6kPxD",
        "outputId": "68a47777-a1d3-4134-c5d9-a9696ce21076"
      },
      "execution_count": null,
      "outputs": [
        {
          "output_type": "execute_result",
          "data": {
            "text/plain": [
              "True"
            ]
          },
          "metadata": {},
          "execution_count": 8
        }
      ]
    },
    {
      "cell_type": "code",
      "source": [
        "# If statement example\n",
        "\n",
        "#age = 19\n",
        "age = 18\n",
        "\n",
        "#expression that can be true or false\n",
        "if age > 18:\n",
        "\n",
        "  #within an ident, we have the expression that is run if the conditional is true\n",
        "  print(\"you can enter\")\n",
        "\n",
        "#The statements after the if statement will run regardless if the condition is true or false\n",
        "print(\"move on\")"
      ],
      "metadata": {
        "colab": {
          "base_uri": "https://localhost:8080/"
        },
        "id": "_ZsYclCpkUfj",
        "outputId": "279e21d2-9fd2-4e66-9088-b3f8d1708c0f"
      },
      "execution_count": null,
      "outputs": [
        {
          "output_type": "stream",
          "name": "stdout",
          "text": [
            "move on\n"
          ]
        }
      ]
    },
    {
      "cell_type": "code",
      "source": [
        "# Else statement example\n",
        "\n",
        "#age = 17\n",
        "age = 19\n",
        "\n",
        "if age > 18:\n",
        "  print(\"you can enter\")\n",
        "else:\n",
        "  print(\"go see Meet Loaf\")\n",
        "  #print(\"move on\")\n",
        "\n",
        "print(\"move on\")"
      ],
      "metadata": {
        "colab": {
          "base_uri": "https://localhost:8080/"
        },
        "id": "hkv13XWIlPp4",
        "outputId": "f57c6cdf-4b3d-4d4e-8666-239a4e295167"
      },
      "execution_count": null,
      "outputs": [
        {
          "output_type": "stream",
          "name": "stdout",
          "text": [
            "you can enter\n",
            "move on\n"
          ]
        }
      ]
    },
    {
      "cell_type": "code",
      "source": [
        "# Elif statment example\n",
        "\n",
        "age = 18\n",
        "\n",
        "if age > 18:\n",
        "  print(\"you can enter\")\n",
        "elif age == 18:\n",
        "  print(\"go see Pink Floyd\")\n",
        "else:\n",
        "  print(\"go see Meat Loaf\")\n",
        "\n",
        "print(\"move on\")"
      ],
      "metadata": {
        "colab": {
          "base_uri": "https://localhost:8080/"
        },
        "id": "Z6sj2xWklvLX",
        "outputId": "e91f65be-fbff-4b55-b41f-8bd54bed7f93"
      },
      "execution_count": null,
      "outputs": [
        {
          "output_type": "stream",
          "name": "stdout",
          "text": [
            "go see Pink Floyd\n",
            "move on\n"
          ]
        }
      ]
    },
    {
      "cell_type": "code",
      "source": [
        "# Condition statement example\n",
        "\n",
        "album_year = 1938\n",
        "#album_year = 1970\n",
        "\n",
        "if album_year > 1980:\n",
        "  print(\"Album year is greater than 1980\")\n",
        "\n",
        "print('do something..')"
      ],
      "metadata": {
        "colab": {
          "base_uri": "https://localhost:8080/"
        },
        "id": "mCQg_3QrmHG5",
        "outputId": "206f6038-81cd-454a-c1c3-71f2ac5c3c00"
      },
      "execution_count": null,
      "outputs": [
        {
          "output_type": "stream",
          "name": "stdout",
          "text": [
            "do something..\n"
          ]
        }
      ]
    },
    {
      "cell_type": "code",
      "source": [
        "# Condition statement example\n",
        "\n",
        "#album_year = 1983\n",
        "album_year = 1970\n",
        "\n",
        "if album_year > 1980:\n",
        "  print(\"Album year is greater than 1980\")\n",
        "else:\n",
        "  print(\"less than 1980\")\n",
        "\n",
        "print('do something..')"
      ],
      "metadata": {
        "colab": {
          "base_uri": "https://localhost:8080/"
        },
        "id": "z6IYBIUNmvD0",
        "outputId": "997045f3-8e86-49c6-a310-38b2b25b3183"
      },
      "execution_count": null,
      "outputs": [
        {
          "output_type": "stream",
          "name": "stdout",
          "text": [
            "less than 1980\n",
            "do something..\n"
          ]
        }
      ]
    },
    {
      "cell_type": "code",
      "source": [
        "# Condition statement example\n",
        "\n",
        "album_year = 1980\n",
        "\n",
        "if(album_year > 1979) and (album_year < 1990):\n",
        "  print(\"Album year was in between 1980 and 1989\")\n",
        "\n",
        "print(\"\")\n",
        "print(\"Do Stuff..\")"
      ],
      "metadata": {
        "colab": {
          "base_uri": "https://localhost:8080/"
        },
        "id": "J-BV5jo-nOjk",
        "outputId": "19d885da-a825-413a-b8d9-e914532ec2f2"
      },
      "execution_count": null,
      "outputs": [
        {
          "output_type": "stream",
          "name": "stdout",
          "text": [
            "Album year was in between 1980 and 1989\n",
            "\n",
            "Do Stuff..\n"
          ]
        }
      ]
    },
    {
      "cell_type": "code",
      "source": [
        "# Condition statement example\n",
        "\n",
        "album_year = 1978\n",
        "\n",
        "if(album_year < 1980) or (album_year > 1989):\n",
        "  print(\"Album was not made in the 1980's\")\n",
        "else:\n",
        "  print(\"The album was made in the 1980's\")"
      ],
      "metadata": {
        "colab": {
          "base_uri": "https://localhost:8080/"
        },
        "id": "LI-ROebpnwRV",
        "outputId": "a8dac9da-9cf5-406e-a4f5-58577b1cc627"
      },
      "execution_count": null,
      "outputs": [
        {
          "output_type": "stream",
          "name": "stdout",
          "text": [
            "Album was not made in the 1980's\n"
          ]
        }
      ]
    },
    {
      "cell_type": "code",
      "source": [
        "# Condition statement example\n",
        "\n",
        "album_year = 1984\n",
        "\n",
        "if not(album_year == '1984'):\n",
        "  print(\"Album year is not 1984\")"
      ],
      "metadata": {
        "colab": {
          "base_uri": "https://localhost:8080/"
        },
        "id": "S0rKTYwJoS_G",
        "outputId": "7524fd7b-d506-4be0-da5b-1a4514dc34c6"
      },
      "execution_count": null,
      "outputs": [
        {
          "output_type": "stream",
          "name": "stdout",
          "text": [
            "Album year is not 1984\n"
          ]
        }
      ]
    },
    {
      "cell_type": "code",
      "source": [
        "rating = 8.5\n",
        "if rating > 8:\n",
        "    print (\"This album is Amazing!\")"
      ],
      "metadata": {
        "colab": {
          "base_uri": "https://localhost:8080/"
        },
        "id": "MuPCmyGrprzt",
        "outputId": "8436adda-bb3b-4531-8e14-d36661fc169e"
      },
      "execution_count": null,
      "outputs": [
        {
          "output_type": "stream",
          "name": "stdout",
          "text": [
            "This album is Amazing!\n"
          ]
        }
      ]
    },
    {
      "cell_type": "code",
      "source": [
        "rating = 8.5\n",
        "if rating > 8:\n",
        "    print (\"this album is amazing\")\n",
        "else:\n",
        "    print (\"this album is ok\")"
      ],
      "metadata": {
        "colab": {
          "base_uri": "https://localhost:8080/"
        },
        "id": "pGtq-YYvp_0F",
        "outputId": "f3cad491-9ee5-49de-f1d6-b0817572457f"
      },
      "execution_count": null,
      "outputs": [
        {
          "output_type": "stream",
          "name": "stdout",
          "text": [
            "this album is amazing\n"
          ]
        }
      ]
    },
    {
      "cell_type": "code",
      "source": [
        "album_year = 1979\n",
        "\n",
        "if album_year < 1980 or album_year == 1991 or album_year == 1993:\n",
        "    print (\"this album came out already\")"
      ],
      "metadata": {
        "colab": {
          "base_uri": "https://localhost:8080/"
        },
        "id": "TQop55IAqTdI",
        "outputId": "6d0438f3-dde1-4f13-8d5c-6517eb7bede8"
      },
      "execution_count": null,
      "outputs": [
        {
          "output_type": "stream",
          "name": "stdout",
          "text": [
            "this album came out already\n"
          ]
        }
      ]
    },
    {
      "cell_type": "code",
      "source": [
        "# Weekly Exercise 1\n",
        "# membuat kode program berdasarkan flowchart\n",
        "\n",
        "Umur = int(input(\"umur = \"))\n",
        "if age <= 17:\n",
        "  print(\"Boleh Membuat SIM\")\n",
        "else:\n",
        "  print(\"Belum Boleh Membuat SIM\")"
      ],
      "metadata": {
        "colab": {
          "base_uri": "https://localhost:8080/"
        },
        "id": "-6J6YjW4qX8k",
        "outputId": "e2c77aad-483a-4b1b-a8dc-02101e083d32"
      },
      "execution_count": null,
      "outputs": [
        {
          "output_type": "stream",
          "name": "stdout",
          "text": [
            "umur = 16\n",
            "Belum Boleh Membuat SIM\n"
          ]
        }
      ]
    },
    {
      "cell_type": "code",
      "source": [
        "Umur = int(input(\"umur = \"))\n",
        "if age >= 17:\n",
        "  print(\"Boleh Membuat SIM\")\n",
        "else:\n",
        "  print(\"Belum Boleh Membuat SIM\")"
      ],
      "metadata": {
        "colab": {
          "base_uri": "https://localhost:8080/"
        },
        "id": "XBtl43KYuUjp",
        "outputId": "0773f187-0ff1-43ff-c5d3-b06073d1f7f5"
      },
      "execution_count": null,
      "outputs": [
        {
          "output_type": "stream",
          "name": "stdout",
          "text": [
            "umur = 17\n",
            "Boleh Membuat SIM\n"
          ]
        }
      ]
    },
    {
      "cell_type": "code",
      "source": [
        "# Weekly Exercise 2\n",
        "# Membuat kode program berdasarkan flowchart\n",
        "\n",
        "nilai = int(input(\"nilai = \"))\n",
        "if nilai >= 90:\n",
        "  print('A')\n",
        "elif nilai >= 80:\n",
        "  print('B+')\n",
        "elif nilai >= 70:\n",
        "  print('B')\n",
        "elif nilai >= 60:\n",
        "  print('C+')\n",
        "elif nilai >= 50:\n",
        "  print('C')\n",
        "elif nilai >= 40:\n",
        "  print('D')\n",
        "else:\n",
        "  print('E')"
      ],
      "metadata": {
        "colab": {
          "base_uri": "https://localhost:8080/"
        },
        "id": "-PdCADzVvv5n",
        "outputId": "15803ba1-8f90-4062-a9b2-2df04d4095dd"
      },
      "execution_count": null,
      "outputs": [
        {
          "output_type": "stream",
          "name": "stdout",
          "text": [
            "nilai = 99\n",
            "A\n"
          ]
        }
      ]
    },
    {
      "cell_type": "code",
      "source": [
        "# Weekly Exercise 3\n",
        "\n",
        "nilai = float(input(\"nilai = \"))\n",
        "if(nilai >= 80,00) and (nilai <= 100):\n",
        "  print(\"Grade A\")\n",
        "elif (nilai >= 77,50) and (nilai <= 79,99):\n",
        "  print(\"Grade A-\")\n",
        "elif (nilai >= 75,00) and (nilai <= 77,49):\n",
        "  print(\"Grade A/B\")\n",
        "elif (nilai >= 72,50) and (nilai <= 74,99):\n",
        "  print(\"Grade B+\")\n",
        "elif (nilai >= 70,00) and (nilai <= 72,49):\n",
        "  print(\"Grade B\")\n",
        "elif (nilai >= 67,50) and (nilai <= 69,99):\n",
        "  print(\"Grade B-\")\n",
        "elif (nilai >= 65,00) and (nilai <= 67,49):\n",
        "  print(\"Grade B/C\")\n",
        "elif (nilai >= 62,50) and (nilai <= 64,99):\n",
        "  print(\"Grade C+\")\n",
        "elif (nilai >= 60,00) and (nilai <= 62,49):\n",
        "  print(\"Grade C\")\n",
        "elif (nilai >= 55,00) and (nilai <= 59,99):\n",
        "  print(\"Grade C-\")\n",
        "elif (nilai >= 50,00) and (nilai <= 54,99):\n",
        "  print(\"Grade C/D\")\n",
        "elif (nilai >= 45,00) and (nilai <= 49,99):\n",
        "  print(\"Grade D+\")\n",
        "elif (nilai >= 40,00) and (nilai <= 44,99):\n",
        "  print(\"Grade D\")\n",
        "elif (nilai < 40):\n",
        "  print(\"Grade E\")"
      ],
      "metadata": {
        "colab": {
          "base_uri": "https://localhost:8080/"
        },
        "id": "69LZ2FPCyhjg",
        "outputId": "73a89b36-4a45-4082-f0a8-0320d0e47cd5"
      },
      "execution_count": null,
      "outputs": [
        {
          "output_type": "stream",
          "name": "stdout",
          "text": [
            "nilai = 99\n",
            "Grade A\n"
          ]
        }
      ]
    }
  ]
}