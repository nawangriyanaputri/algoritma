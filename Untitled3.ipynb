{
  "nbformat": 4,
  "nbformat_minor": 0,
  "metadata": {
    "colab": {
      "provenance": [],
      "authorship_tag": "ABX9TyNZS3g0/HKxE72GKL/wUr/h",
      "include_colab_link": true
    },
    "kernelspec": {
      "name": "python3",
      "display_name": "Python 3"
    },
    "language_info": {
      "name": "python"
    }
  },
  "cells": [
    {
      "cell_type": "markdown",
      "metadata": {
        "id": "view-in-github",
        "colab_type": "text"
      },
      "source": [
        "<a href=\"https://colab.research.google.com/github/nawangriyanaputri/algoritma/blob/main/Untitled3.ipynb\" target=\"_parent\"><img src=\"https://colab.research.google.com/assets/colab-badge.svg\" alt=\"Open In Colab\"/></a>"
      ]
    },
    {
      "cell_type": "code",
      "execution_count": null,
      "metadata": {
        "colab": {
          "base_uri": "https://localhost:8080/"
        },
        "id": "_t7zV3vLlBe0",
        "outputId": "1ffe981f-87a0-4727-95ac-35e22ad2b80c"
      },
      "outputs": [
        {
          "output_type": "stream",
          "name": "stdout",
          "text": [
            "The number is positive.\n"
          ]
        }
      ],
      "source": [
        "num = 5\n",
        "\n",
        "if num > 0:\n",
        "  print(\"The number is positive.\")\n",
        "else:\n",
        "  if num < 0:\n",
        "    print(\"The number is negative.\")\n",
        "  else:\n",
        "    print(\"The number is zero.\")"
      ]
    },
    {
      "cell_type": "code",
      "source": [
        "# Example 2 : Age classifier\n",
        "age = 35\n",
        "\n",
        "if age >= 60:\n",
        "  print(\"You are a senior citizen.\")\n",
        "else:\n",
        "  if age >= 18 :\n",
        "    print(\"You are an adult.\")\n",
        "  else:\n",
        "    print(\"You are a teenager.\")"
      ],
      "metadata": {
        "colab": {
          "base_uri": "https://localhost:8080/"
        },
        "id": "I09pDLYPlsGb",
        "outputId": "9847c4d6-cb6b-4d85-e370-93cfd01ab1ce"
      },
      "execution_count": null,
      "outputs": [
        {
          "output_type": "stream",
          "name": "stdout",
          "text": [
            "You are an adult.\n"
          ]
        }
      ]
    },
    {
      "cell_type": "code",
      "source": [
        "# Weekly Exercise 1\n",
        "Tahun = int(input(\"Tahun = \"))\n",
        "\n",
        "if Tahun % 4 == 0:\n",
        "  print(\"Tahun kabisat\")\n",
        "else:\n",
        "  print(\"Bukan tahun kabisat\")"
      ],
      "metadata": {
        "colab": {
          "base_uri": "https://localhost:8080/"
        },
        "id": "pZYuMj5tmO4A",
        "outputId": "2d24d5d2-ff54-41b3-fde2-ac536786b208"
      },
      "execution_count": null,
      "outputs": [
        {
          "output_type": "stream",
          "name": "stdout",
          "text": [
            "Tahun = 2005\n",
            "Bukan tahun kabisat\n"
          ]
        }
      ]
    },
    {
      "cell_type": "code",
      "source": [
        "# Weekly Exercise 2\n",
        "\n",
        "A = int(input(\"Angka pertama: \"))\n",
        "B = int(input(\"Angka kedua: \"))\n",
        "C = int(input(\"Angka ketiga: \"))\n",
        "\n",
        "if A > B and A > C:\n",
        "  print(\"Angka terbesar adalah\", A)\n",
        "elif B > A and B > C:\n",
        "  print(\"Angka terbesar adalah\", B)\n",
        "else:\n",
        "  print(\"Angka terbesar adalah\", C)"
      ],
      "metadata": {
        "colab": {
          "base_uri": "https://localhost:8080/"
        },
        "id": "8KEv8n31yh6N",
        "outputId": "1ac6bd7b-a4d8-4ced-941b-84b95fccfee8"
      },
      "execution_count": null,
      "outputs": [
        {
          "output_type": "stream",
          "name": "stdout",
          "text": [
            "Angka pertama: 7\n",
            "Angka kedua: 5\n",
            "Angka ketiga: 9\n",
            "Angka terbesar adalah 9\n"
          ]
        }
      ]
    },
    {
      "cell_type": "code",
      "source": [
        "# Weekly Exeercise 3\n",
        "\n",
        "jenis = input(\"jenis konsumen : \")\n",
        "belanja = float(input(\"total belanja : \"))\n",
        "\n",
        "if belanja > 100.000:\n",
        "  diskon = 0.03\n",
        "  if jenis == \"member\":\n",
        "    diskon += 0.02\n",
        "elif belanja > 200.000:\n",
        "  diskon = 0.04\n",
        "  if jenis == \"member\":\n",
        "    diskon += 0.02\n",
        "\n",
        "totalbelanja = belanja-belanja*diskon\n",
        "print(f\"Total yang harus dibayarkan : Rp{totalbelanja:.2f}\")"
      ],
      "metadata": {
        "colab": {
          "base_uri": "https://localhost:8080/"
        },
        "id": "YWiW7g4TdJSl",
        "outputId": "5bcab7ea-2231-4939-f9ba-550150d85eb4"
      },
      "execution_count": null,
      "outputs": [
        {
          "output_type": "stream",
          "name": "stdout",
          "text": [
            "jenis konsumen : member\n",
            "total belanja : 300000\n",
            "Total yang harus dibayarkan : Rp285000.00\n"
          ]
        }
      ]
    },
    {
      "cell_type": "code",
      "source": [
        "# Weekly Exercise 4\n",
        "\n",
        "username = input(\"masukkan username: \")\n",
        "email = input(\"masukkan email: \")\n",
        "password = input(\"masukkan password: \")\n",
        "\n",
        "if len(username) == 0:\n",
        "  print(\"username tidak boleh kosong\")\n",
        "else:\n",
        "  if \"@\" not in email:\n",
        "    print(\"alamat email tidak valid\")\n",
        "  else:\n",
        "    if len(password) < 8:\n",
        "      print(\"password harus memiliki minimal 8 karakter\")\n",
        "    else:\n",
        "      print(\"Registrasi berhasil\")\n",
        "      print(\"username:\", username)\n",
        "      print(\"email:\", email)\n",
        "      print(\"password:\", password)"
      ],
      "metadata": {
        "id": "lWSnDcVW0ikz",
        "colab": {
          "base_uri": "https://localhost:8080/"
        },
        "outputId": "99117536-0a80-4869-af8c-347575dce14f"
      },
      "execution_count": null,
      "outputs": [
        {
          "output_type": "stream",
          "name": "stdout",
          "text": [
            "masukkan username: Nawang Riyana Putri\n",
            "masukkan email: riyyana888@gmail.com\n",
            "masukkan password: nawriyy_\n",
            "Registrasi berhasil\n",
            "username: Nawang Riyana Putri\n",
            "email: riyyana888@gmail.com\n",
            "password: nawriyy_\n"
          ]
        }
      ]
    }
  ]
}